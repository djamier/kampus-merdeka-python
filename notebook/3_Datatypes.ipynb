{
 "cells": [
  {
   "cell_type": "code",
   "execution_count": 7,
   "metadata": {},
   "outputs": [],
   "source": [
    "# Datatype Primitive\n",
    "\n",
    "# String\n",
    "var_string = 'sastrio yunanda djamier'\n",
    "print(var_string)\n",
    "print(var_string[:7])\n",
    "\n",
    "# Integer\n",
    "var_int = 25000\n",
    "print(var_int)\n",
    "\n",
    "# Float\n",
    "var_float = 165.5\n",
    "print(var_int)\n",
    "\n",
    "# string formatting\n",
    "print (f'Saya mebeli kopi susu gula aren sebesar RP.{var_int:,.0f}')"
   ]
  }
 ],
 "metadata": {
  "kernelspec": {
   "display_name": "venv",
   "language": "python",
   "name": "python3"
  },
  "language_info": {
   "codemirror_mode": {
    "name": "ipython",
    "version": 3
   },
   "file_extension": ".py",
   "mimetype": "text/x-python",
   "name": "python",
   "nbconvert_exporter": "python",
   "pygments_lexer": "ipython3",
   "version": "3.9.10"
  },
  "orig_nbformat": 4
 },
 "nbformat": 4,
 "nbformat_minor": 2
}
