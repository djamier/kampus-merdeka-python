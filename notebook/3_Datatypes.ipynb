{
 "cells": [
  {
   "cell_type": "code",
   "execution_count": 45,
   "metadata": {},
   "outputs": [],
   "source": [
    "# Datatype Primitive\n",
    "\n",
    "# Integer\n",
    "var_int = 25000\n",
    "print(var_int)\n",
    "\n",
    "# Float\n",
    "var_float = 165.5\n",
    "print(var_int)\n",
    "\n",
    "# Booolean\n",
    "angka1 = 10\n",
    "angka2 = 5\n",
    "var_bool = angka1 > angka2\n",
    "print(var_bool)\n",
    "\n",
    "# String\n",
    "var_string = 'Sastrio Yunanda Djamier'\n",
    "print(var_string[16:])\n",
    "print(var_string[-1:])\n",
    "\n",
    "\n",
    "# string formatting\n",
    "print (f'Saya mebeli kopi susu gula aren sebesar RP.{var_int:,.0f}')\n"
   ]
  },
  {
   "cell_type": "code",
   "execution_count": 56,
   "metadata": {},
   "outputs": [],
   "source": [
    "# Datatype Non-Primitive\n",
    "\n",
    "# List\n",
    "var_list = ['Soekarno', 'Soeharto', 'BJ Habibie', 'Abdurrahman Wahid', 'Megawati Soekarnoputri','Susilo Bambang Yudhoyono', 'Joko Widodo']\n",
    "print(var_list)\n",
    "\n",
    "print(var_list[0]) # <-- access first elements\n",
    "\n",
    "var_list.append('Djamier')\n",
    "print(var_list)\n",
    "\n",
    "var_list.remove('Djamier')\n",
    "print(var_list)\n"
   ]
  },
  {
   "cell_type": "code",
   "execution_count": 55,
   "metadata": {},
   "outputs": [],
   "source": [
    "# Dictionary\n",
    "var_dict = {\n",
    "    'Soekarno': 'pertama',\n",
    "    'Soeharto': 'kedua',\n",
    "    'BJ Habibie': 'ketiga',\n",
    "    'Abdurrahman Wahid': 'keempat',\n",
    "    'Megawati Soekarnoputri': 'kelima',\n",
    "    'Susilo Bambang Yudhoyono': 'keenam',\n",
    "    'Joko Widodo': 'keenam'\n",
    "}\n",
    "print(var_dict)\n",
    "\n",
    "var_dict['Djamier'] = 'ketujuh'\n",
    "print(var_dict)\n",
    "\n",
    "presidents = var_dict.keys()\n",
    "print(presidents)"
   ]
  }
 ],
 "metadata": {
  "kernelspec": {
   "display_name": "venv",
   "language": "python",
   "name": "python3"
  },
  "language_info": {
   "codemirror_mode": {
    "name": "ipython",
    "version": 3
   },
   "file_extension": ".py",
   "mimetype": "text/x-python",
   "name": "python",
   "nbconvert_exporter": "python",
   "pygments_lexer": "ipython3",
   "version": "3.9.10"
  },
  "orig_nbformat": 4
 },
 "nbformat": 4,
 "nbformat_minor": 2
}
