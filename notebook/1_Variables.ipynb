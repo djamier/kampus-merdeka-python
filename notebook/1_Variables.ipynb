{
 "cells": [
  {
   "cell_type": "code",
   "execution_count": 4,
   "id": "9cb860c5-3431-4271-8594-163d976a6ab0",
   "metadata": {},
   "outputs": [],
   "source": [
    "first_name = 'sastrio'\n",
    "middle_name = 'yunanda'\n",
    "last_name = 'djamier'\n",
    "\n",
    "print (first_name)\n",
    "print (middle_name)\n",
    "print (last_name)\n",
    "# print (first_name, middle_name, last_name)"
   ]
  },
  {
   "cell_type": "code",
   "execution_count": 5,
   "id": "deb8dc93",
   "metadata": {},
   "outputs": [],
   "source": [
    "# one value to multiple variable\n",
    "x = y = z = 'sastrio'\n",
    "\n",
    "print (x, y ,z)"
   ]
  },
  {
   "cell_type": "code",
   "execution_count": 6,
   "id": "25b4c3c9",
   "metadata": {},
   "outputs": [],
   "source": [
    "# many value to multiple variable\n",
    "x, y, z = 'sastrio', 'yunanda', 'djamier'\n",
    "\n",
    "print(x)\n",
    "print(y)\n",
    "print(z)\n",
    "# print (x, y, z)"
   ]
  }
 ],
 "metadata": {
  "kernelspec": {
   "display_name": "Python 3 (ipykernel)",
   "language": "python",
   "name": "python3"
  },
  "language_info": {
   "codemirror_mode": {
    "name": "ipython",
    "version": 3
   },
   "file_extension": ".py",
   "mimetype": "text/x-python",
   "name": "python",
   "nbconvert_exporter": "python",
   "pygments_lexer": "ipython3",
   "version": "3.9.10"
  }
 },
 "nbformat": 4,
 "nbformat_minor": 5
}
