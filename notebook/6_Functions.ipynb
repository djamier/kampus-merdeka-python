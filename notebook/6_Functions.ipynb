{
 "cells": [
  {
   "cell_type": "code",
   "execution_count": 3,
   "metadata": {},
   "outputs": [
    {
     "name": "stdout",
     "output_type": "stream",
     "text": [
      "Hello, nama saya djamier. Saat ini  hehe saya sedang kuliah di SpaceX\n"
     ]
    }
   ],
   "source": [
    "# Function\n",
    "def func_perkenalan(name, company):\n",
    "    print(f'Hello, nama saya {name}. Saat ini saya sedang bekerja di {company}')\n",
    "\n",
    "func_perkenalan('djamier', 'SpaceX')"
   ]
  },
  {
   "cell_type": "code",
   "execution_count": 2,
   "metadata": {},
   "outputs": [],
   "source": [
    "def func_harapan(name, wish='semoga dapat menjadi data engineer professional'):\n",
    "    print(f'Hello, nama saya {name}. \\nharapan: {wish}')\n",
    "\n",
    "func_harapan('Elon Musk')"
   ]
  },
  {
   "cell_type": "code",
   "execution_count": 2,
   "metadata": {},
   "outputs": [],
   "source": [
    "def get_names(name):\n",
    "    return name\n",
    "\n",
    "def get_universities(university):\n",
    "    return university\n",
    "\n",
    "def get_introduce(name, university):\n",
    "    print(f'Hello, nama saya {name}. Saat ini saya sedang kuliah di {university}')\n",
    "\n",
    "name = get_names('djamier')\n",
    "university = get_universities('Harvard University')\n",
    "\n",
    "get_introduce(name, university)"
   ]
  }
 ],
 "metadata": {
  "kernelspec": {
   "display_name": "venv",
   "language": "python",
   "name": "python3"
  },
  "language_info": {
   "codemirror_mode": {
    "name": "ipython",
    "version": 3
   },
   "file_extension": ".py",
   "mimetype": "text/x-python",
   "name": "python",
   "nbconvert_exporter": "python",
   "pygments_lexer": "ipython3",
   "version": "3.9.10"
  },
  "orig_nbformat": 4
 },
 "nbformat": 4,
 "nbformat_minor": 2
}
