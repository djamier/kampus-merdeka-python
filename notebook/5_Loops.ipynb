{
 "cells": [
  {
   "cell_type": "code",
   "execution_count": 67,
   "metadata": {},
   "outputs": [],
   "source": [
    "# For Loop\n",
    "for x in range(1, 6):\n",
    "    if x < 3:\n",
    "        continue\n",
    "    print(x)"
   ]
  },
  {
   "cell_type": "code",
   "execution_count": null,
   "metadata": {},
   "outputs": [],
   "source": [
    "# Looping Through Dictionary\n",
    "presidents = {\n",
    "    'Soekarno': 'pertama',\n",
    "    'Soeharto': 'kedua',\n",
    "    'BJ Habibie': 'ketiga',\n",
    "    'Abdurrahman Wahid': 'keempat',\n",
    "    'Megawati Soekarnoputri': 'kelima',\n",
    "    'Susilo Bambang Yudhoyono': 'keenam',\n",
    "    'Joko Widodo': 'ketujuh'\n",
    "}\n",
    "\n",
    "for x in presidents.items():\n",
    "    print(x)"
   ]
  },
  {
   "cell_type": "code",
   "execution_count": 59,
   "metadata": {},
   "outputs": [],
   "source": [
    "# Looping Through List\n",
    "presidents = ['Soekarno', 'Soeharto', 'BJ Habibie', 'Abdurrahman Wahid', 'Megawati Soekarnoputri','Susilo Bambang Yudhoyono', 'Joko Widodo']\n",
    "orders = ['pertama', 'kedua', 'ketiga', 'keempat', 'kelima', 'keenam', 'ketujuh']\n",
    "\n",
    "for president in presidents:\n",
    "    print(president)"
   ]
  },
  {
   "cell_type": "code",
   "execution_count": 70,
   "metadata": {},
   "outputs": [],
   "source": [
    "# While Loop\n",
    "y = 1\n",
    "\n",
    "while y <= 5:\n",
    "    if y > 3:\n",
    "        break\n",
    "    print(y)\n",
    "    y += 1"
   ]
  },
  {
   "cell_type": "code",
   "execution_count": 18,
   "metadata": {},
   "outputs": [],
   "source": [
    "# List comprehension\n",
    "scores = [70, 50, 80]\n",
    "passing_scores = [score for score in scores if score >= 60]\n",
    "\n",
    "print (passing_scores)"
   ]
  }
 ],
 "metadata": {
  "kernelspec": {
   "display_name": "venv",
   "language": "python",
   "name": "python3"
  },
  "language_info": {
   "codemirror_mode": {
    "name": "ipython",
    "version": 3
   },
   "file_extension": ".py",
   "mimetype": "text/x-python",
   "name": "python",
   "nbconvert_exporter": "python",
   "pygments_lexer": "ipython3",
   "version": "3.9.10"
  },
  "orig_nbformat": 4
 },
 "nbformat": 4,
 "nbformat_minor": 2
}
