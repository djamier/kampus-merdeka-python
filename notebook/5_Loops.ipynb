{
 "cells": [
  {
   "cell_type": "code",
   "execution_count": 18,
   "metadata": {},
   "outputs": [],
   "source": [
    "# While loop\n",
    "n = 10\n",
    "i = 1\n",
    "\n",
    "while i <= n:\n",
    "    if i > 5:\n",
    "        break\n",
    "    print(2 * i)\n",
    "    i += 1"
   ]
  },
  {
   "cell_type": "code",
   "execution_count": 19,
   "metadata": {},
   "outputs": [],
   "source": [
    "# For Loop\n",
    "n = 5\n",
    "\n",
    "for i in range(1, n+1):\n",
    "    print(\" \" * (n-i) + \"*\" * (2*i - 1))"
   ]
  },
  {
   "cell_type": "code",
   "execution_count": 3,
   "metadata": {},
   "outputs": [],
   "source": [
    "# For Loop Through List Elements\n",
    "nama_presiden = ['Soekarno', 'Soeharto', 'BJ Habibie', 'Abdurrahman Wahid', 'Megawati Soekarnoputri', 'Joko Widodo']\n",
    "urutan = ['pertama', 'kedua', 'ketiga', 'keempat', 'kelima', 'keenam']\n",
    "\n",
    "for i in range(len(urutan)):\n",
    "    x = nama_presiden[i]\n",
    "    y = urutan[i]\n",
    "    print(f'{x} adalah presiden yang {y}')\n"
   ]
  },
  {
   "cell_type": "code",
   "execution_count": null,
   "metadata": {},
   "outputs": [],
   "source": [
    "# For Loop Through Dictionary Elements\n",
    "president_name = {\n",
    "    'Soekarno': 'pertama',\n",
    "    'Soeharto': 'kedua',\n",
    "    'BJ Habibie': 'ketiga',\n",
    "    'Abdurrahman Wahid': 'keempat',\n",
    "    'Megawati Soekarnoputri': 'kelima',\n",
    "    'Joko Widodo': 'keenam'\n",
    "}\n",
    "\n",
    "for x in president_name.keys():\n",
    "    print (x)"
   ]
  },
  {
   "cell_type": "code",
   "execution_count": 12,
   "metadata": {},
   "outputs": [
    {
     "name": "stdout",
     "output_type": "stream",
     "text": [
      "[70, 80]\n"
     ]
    }
   ],
   "source": [
    "# List comprehension\n",
    "scores = [70, 50, 80]\n",
    "passing_scores = [score for score in scores if score >= 60]\n",
    "\n",
    "print (passing_scores)"
   ]
  }
 ],
 "metadata": {
  "kernelspec": {
   "display_name": "venv",
   "language": "python",
   "name": "python3"
  },
  "language_info": {
   "codemirror_mode": {
    "name": "ipython",
    "version": 3
   },
   "file_extension": ".py",
   "mimetype": "text/x-python",
   "name": "python",
   "nbconvert_exporter": "python",
   "pygments_lexer": "ipython3",
   "version": "3.9.10"
  },
  "orig_nbformat": 4
 },
 "nbformat": 4,
 "nbformat_minor": 2
}
