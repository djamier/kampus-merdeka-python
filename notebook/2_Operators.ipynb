{
 "cells": [
  {
   "cell_type": "code",
   "execution_count": 20,
   "metadata": {},
   "outputs": [],
   "source": [
    "# Arithmetic Operators\n",
    "x = 10\n",
    "y = 5\n",
    "\n",
    "Addition_result\t= x + y\t\n",
    "print(Addition_result) # Penambahan\n",
    "\n",
    "Subtraction_result = x - y\t\n",
    "print(Subtraction_result) # Pengurangan\n",
    "\n",
    "Multiplication_result = x * y\n",
    "print(Multiplication_result) # Perkalian\n",
    "\n",
    "Division_result\t= x / y\t\n",
    "print(Division_result) # Pembagian\n",
    "\n",
    "Modulus_result = x % y\t\n",
    "print(Modulus_result) # Modulus (Sisa Hasil pembagian)\n",
    "\n",
    "Exponentiation_result = x ** y\n",
    "print(Exponentiation_result) # Pangkat\n",
    "\n",
    "Floor_division_result = x // y\n",
    "print(Floor_division_result) # Pembagian Bulat\t"
   ]
  },
  {
   "cell_type": "code",
   "execution_count": 22,
   "metadata": {},
   "outputs": [],
   "source": [
    "# Comparison Operators\n",
    "x = 22\n",
    "y = 40\n",
    "\n",
    "print(x == y) # Equal\n",
    "print(x != y) # Not Equal\n",
    "print(x > y) # Greater than\n",
    "print(x < y) # less than\n",
    "print(x >= y) # Greater than or equal\n",
    "print(x <= y) # Greater than or equal"
   ]
  },
  {
   "cell_type": "code",
   "execution_count": 19,
   "metadata": {},
   "outputs": [
    {
     "name": "stdout",
     "output_type": "stream",
     "text": [
      "40\n"
     ]
    }
   ],
   "source": [
    "# Assignment Operators\n",
    "x = 50\n",
    "\n",
    "# x += 10 # same as --> x = x + 10\n",
    "x -= 10 # same as --> x = x - 10\n",
    "print(x)"
   ]
  }
 ],
 "metadata": {
  "kernelspec": {
   "display_name": "venv",
   "language": "python",
   "name": "python3"
  },
  "language_info": {
   "name": "python",
   "version": "3.9.10"
  },
  "orig_nbformat": 4
 },
 "nbformat": 4,
 "nbformat_minor": 2
}
