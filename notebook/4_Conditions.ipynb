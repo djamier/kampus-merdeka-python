{
 "cells": [
  {
   "cell_type": "code",
   "execution_count": 19,
   "metadata": {},
   "outputs": [],
   "source": [
    "# If Statement\n",
    "# Usecase - minimum score for passing a subject\n",
    "nilai = int(input(\"Nilai: \"))\n",
    "\n",
    "if nilai >= 60:\n",
    "    print(\"Selamat! Anda lulus.\")\n",
    "else:\n",
    "    print(\"Maaf, Anda harus mengulang kelas.\")"
   ]
  },
  {
   "cell_type": "code",
   "execution_count": 18,
   "metadata": {},
   "outputs": [],
   "source": [
    "# Nested If Statement\n",
    "# Usecase - subject grade metrics\n",
    "nilai = int(input(\"Nilai: \"))\n",
    "\n",
    "if nilai >= 60:\n",
    "    if nilai >= 90:\n",
    "        print(\"Anda mendapatkan nilai A.\")\n",
    "    elif nilai >= 80:\n",
    "        print(\"Anda mendapatkan nilai B.\")\n",
    "    elif nilai >= 70:\n",
    "        print(\"Anda mendapatkan nilai C.\")\n",
    "    else:\n",
    "        print(\"Anda mendapatkan nilai D.\")\n",
    "else:\n",
    "    print(\"Maaf nilai anda E, Anda harus mengulang kelas.\")"
   ]
  },
  {
   "cell_type": "code",
   "execution_count": 12,
   "metadata": {},
   "outputs": [],
   "source": [
    "# Pass Statement\n",
    "a = 40\n",
    "b = 70\n",
    "\n",
    "if a > b:\n",
    "    pass\n",
    "else:\n",
    "    print(\"b is greater than a\")"
   ]
  }
 ],
 "metadata": {
  "kernelspec": {
   "display_name": "venv",
   "language": "python",
   "name": "python3"
  },
  "language_info": {
   "codemirror_mode": {
    "name": "ipython",
    "version": 3
   },
   "file_extension": ".py",
   "mimetype": "text/x-python",
   "name": "python",
   "nbconvert_exporter": "python",
   "pygments_lexer": "ipython3",
   "version": "3.9.10"
  },
  "orig_nbformat": 4
 },
 "nbformat": 4,
 "nbformat_minor": 2
}
