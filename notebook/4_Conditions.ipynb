{
 "cells": [
  {
   "cell_type": "code",
   "execution_count": 1,
   "metadata": {},
   "outputs": [
    {
     "name": "stdout",
     "output_type": "stream",
     "text": [
      "Selamat! Anda lulus.\n"
     ]
    }
   ],
   "source": [
    "# If Statement\n",
    "# Usecase - minimum score for passing a subject\n",
    "nilai = int(input(\"Nilai: \"))\n",
    "\n",
    "if nilai >= 60:\n",
    "    print(\"Selamat! Anda lulus.\")\n",
    "else:\n",
    "    print(\"Maaf, Anda harus mengulang kelas.\")"
   ]
  },
  {
   "cell_type": "code",
   "execution_count": 2,
   "metadata": {},
   "outputs": [
    {
     "name": "stdout",
     "output_type": "stream",
     "text": [
      "Maaf, Anda harus mengulang kelas.\n"
     ]
    }
   ],
   "source": [
    "# Nested If Statement\n",
    "# Usecase - subject grade metric\n",
    "nilai = int(input(\"Nilai: \"))\n",
    "\n",
    "if nilai >= 60:\n",
    "    if nilai >= 90:\n",
    "        print(\"Anda mendapatkan nilai A.\")\n",
    "    elif nilai >= 80:\n",
    "        print(\"Anda mendapatkan nilai B.\")\n",
    "    elif nilai >= 70:\n",
    "        print(\"Anda mendapatkan nilai C.\")\n",
    "    else:\n",
    "        print(\"Anda mendapatkan nilai D.\")\n",
    "else:\n",
    "    print(\"Maaf, Anda harus mengulang kelas.\")"
   ]
  }
 ],
 "metadata": {
  "kernelspec": {
   "display_name": "venv",
   "language": "python",
   "name": "python3"
  },
  "language_info": {
   "codemirror_mode": {
    "name": "ipython",
    "version": 3
   },
   "file_extension": ".py",
   "mimetype": "text/x-python",
   "name": "python",
   "nbconvert_exporter": "python",
   "pygments_lexer": "ipython3",
   "version": "3.9.10"
  },
  "orig_nbformat": 4
 },
 "nbformat": 4,
 "nbformat_minor": 2
}
