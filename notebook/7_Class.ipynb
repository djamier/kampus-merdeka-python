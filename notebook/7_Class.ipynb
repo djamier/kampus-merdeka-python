{
 "cells": [
  {
   "cell_type": "code",
   "execution_count": 9,
   "metadata": {},
   "outputs": [],
   "source": [
    "class Person:\n",
    "    def __init__(self, name, age):\n",
    "        self.name = name\n",
    "        self.age = age\n",
    "\n",
    "    def get_output(self):\n",
    "        return f'nama saya {self.name} dan berumur {self.age} tahun.'\n",
    "\n",
    "person1 = Person('Djamier', 22)\n",
    "print(person1.get_output())"
   ]
  },
  {
   "cell_type": "code",
   "execution_count": null,
   "metadata": {},
   "outputs": [],
   "source": [
    "class Car:\n",
    "    def __init__(self, brand, model):\n",
    "        self.brand = brand\n",
    "        self.model = model\n",
    "\n",
    "class TypeCar(Car):\n",
    "    def __init__(self, brand, model, year):\n",
    "        super().__init__(brand, model)\n",
    "        self.year = year\n",
    "\n",
    "    def get_car_type(self):\n",
    "        return f\"This is a {self.year} {self.brand} {self.model}.\"\n",
    "\n",
    "# Objects\n",
    "civic_2022 = TypeCar(\"Honda\", \"Civic\", 2022)\n",
    "accord_2023 = TypeCar(\"Honda\", \"Accord\", 2023)\n",
    "corolla_2022 = TypeCar(\"Toyota\", \"Corolla\", 1990)\n",
    "\n",
    "print(civic_2022.get_car_type())  \n",
    "print(accord_2023.get_car_type())  \n",
    "print(corolla_2022.get_car_type())"
   ]
  }
 ],
 "metadata": {
  "kernelspec": {
   "display_name": "venv",
   "language": "python",
   "name": "python3"
  },
  "language_info": {
   "codemirror_mode": {
    "name": "ipython",
    "version": 3
   },
   "file_extension": ".py",
   "mimetype": "text/x-python",
   "name": "python",
   "nbconvert_exporter": "python",
   "pygments_lexer": "ipython3",
   "version": "3.9.10"
  },
  "orig_nbformat": 4
 },
 "nbformat": 4,
 "nbformat_minor": 2
}
