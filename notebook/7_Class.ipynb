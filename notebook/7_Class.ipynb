{
 "cells": [
  {
   "cell_type": "code",
   "execution_count": 1,
   "metadata": {},
   "outputs": [
    {
     "name": "stdout",
     "output_type": "stream",
     "text": [
      "nama saya Djamier dan berumur 22 tahun.\n"
     ]
    }
   ],
   "source": [
    "class Person:\n",
    "    def __init__(self, name, age):\n",
    "        self.name = name\n",
    "        self.age = age\n",
    "\n",
    "    def get_output(self):\n",
    "        return f'nama saya {self.name} dan berumur {self.age} tahun.'\n",
    "\n",
    "person1 = Person('Djamier', 22)\n",
    "print(person1.get_output())"
   ]
  },
  {
   "cell_type": "code",
   "execution_count": 2,
   "metadata": {},
   "outputs": [
    {
     "name": "stdout",
     "output_type": "stream",
     "text": [
      "Ini Mobil Honda Civic.\n",
      "Ini Mobil Honda Accord.\n",
      "Ini Mobil Toyota Corolla.\n"
     ]
    }
   ],
   "source": [
    "class Car:\n",
    "    def __init__(self, brand):\n",
    "        self.brand = brand\n",
    "\n",
    "class ModelCar(Car):\n",
    "    def __init__(self, brand, model):\n",
    "        super().__init__(brand)\n",
    "        self.model = model\n",
    "\n",
    "    def get_output(self):\n",
    "        return f'Ini Mobil {self.brand} {self.model}.'\n",
    "\n",
    "\n",
    "# Objects\n",
    "honda_civic = ModelCar(\"Honda\", \"Civic\")\n",
    "honda_accord = ModelCar(\"Honda\", \"Accord\")\n",
    "toyota_corolla = ModelCar(\"Toyota\", \"Corolla\")\n",
    "\n",
    "print(honda_civic.get_output())  \n",
    "print(honda_accord.get_output())  \n",
    "print(toyota_corolla.get_output())"
   ]
  }
 ],
 "metadata": {
  "kernelspec": {
   "display_name": "venv",
   "language": "python",
   "name": "python3"
  },
  "language_info": {
   "codemirror_mode": {
    "name": "ipython",
    "version": 3
   },
   "file_extension": ".py",
   "mimetype": "text/x-python",
   "name": "python",
   "nbconvert_exporter": "python",
   "pygments_lexer": "ipython3",
   "version": "3.9.10"
  },
  "orig_nbformat": 4
 },
 "nbformat": 4,
 "nbformat_minor": 2
}
